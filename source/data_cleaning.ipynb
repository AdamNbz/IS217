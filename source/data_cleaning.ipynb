{
 "cells": [
  {
   "cell_type": "markdown",
   "id": "31a6c5c5",
   "metadata": {},
   "source": [
    "# **Import các thư viện**"
   ]
  },
  {
   "cell_type": "code",
   "execution_count": 1,
   "id": "ba838a84",
   "metadata": {},
   "outputs": [],
   "source": [
    "import pandas as pd\n",
    "import numpy as np\n",
    "import re"
   ]
  },
  {
   "cell_type": "markdown",
   "id": "f6760738",
   "metadata": {},
   "source": [
    "- Đọc file csv vào bảng df"
   ]
  },
  {
   "cell_type": "code",
   "execution_count": null,
   "id": "db48bfc6",
   "metadata": {},
   "outputs": [
    {
     "data": {
      "text/html": [
       "<div>\n",
       "<style scoped>\n",
       "    .dataframe tbody tr th:only-of-type {\n",
       "        vertical-align: middle;\n",
       "    }\n",
       "\n",
       "    .dataframe tbody tr th {\n",
       "        vertical-align: top;\n",
       "    }\n",
       "\n",
       "    .dataframe thead th {\n",
       "        text-align: right;\n",
       "    }\n",
       "</style>\n",
       "<table border=\"1\" class=\"dataframe\">\n",
       "  <thead>\n",
       "    <tr style=\"text-align: right;\">\n",
       "      <th></th>\n",
       "      <th>Manufacturer</th>\n",
       "      <th>Model</th>\n",
       "      <th>Engine size</th>\n",
       "      <th>Fuel type</th>\n",
       "      <th>Year of manufacture</th>\n",
       "      <th>Mileage</th>\n",
       "      <th>Price</th>\n",
       "    </tr>\n",
       "  </thead>\n",
       "  <tbody>\n",
       "    <tr>\n",
       "      <th>0</th>\n",
       "      <td>Ford</td>\n",
       "      <td>Fiesta</td>\n",
       "      <td>1.0</td>\n",
       "      <td>Petrol</td>\n",
       "      <td>2002</td>\n",
       "      <td>127300</td>\n",
       "      <td>3074</td>\n",
       "    </tr>\n",
       "    <tr>\n",
       "      <th>1</th>\n",
       "      <td>Porsche</td>\n",
       "      <td>718 Cayman</td>\n",
       "      <td>4.0</td>\n",
       "      <td>Petrol</td>\n",
       "      <td>2016</td>\n",
       "      <td>57850</td>\n",
       "      <td>49704</td>\n",
       "    </tr>\n",
       "    <tr>\n",
       "      <th>2</th>\n",
       "      <td>Ford</td>\n",
       "      <td>Mondeo</td>\n",
       "      <td>1.6</td>\n",
       "      <td>Diesel</td>\n",
       "      <td>2014</td>\n",
       "      <td>39190</td>\n",
       "      <td>24072</td>\n",
       "    </tr>\n",
       "    <tr>\n",
       "      <th>3</th>\n",
       "      <td>Toyota</td>\n",
       "      <td>RAV4</td>\n",
       "      <td>1.8</td>\n",
       "      <td>Hybrid</td>\n",
       "      <td>1988</td>\n",
       "      <td>210814</td>\n",
       "      <td>1705</td>\n",
       "    </tr>\n",
       "    <tr>\n",
       "      <th>4</th>\n",
       "      <td>VW</td>\n",
       "      <td>Polo</td>\n",
       "      <td>1.0</td>\n",
       "      <td>Petrol</td>\n",
       "      <td>2006</td>\n",
       "      <td>127869</td>\n",
       "      <td>4101</td>\n",
       "    </tr>\n",
       "  </tbody>\n",
       "</table>\n",
       "</div>"
      ],
      "text/plain": [
       "  Manufacturer       Model  Engine size Fuel type  Year of manufacture  \\\n",
       "0         Ford      Fiesta          1.0    Petrol                 2002   \n",
       "1      Porsche  718 Cayman          4.0    Petrol                 2016   \n",
       "2         Ford      Mondeo          1.6    Diesel                 2014   \n",
       "3       Toyota        RAV4          1.8    Hybrid                 1988   \n",
       "4           VW        Polo          1.0    Petrol                 2006   \n",
       "\n",
       "   Mileage  Price  \n",
       "0   127300   3074  \n",
       "1    57850  49704  \n",
       "2    39190  24072  \n",
       "3   210814   1705  \n",
       "4   127869   4101  "
      ]
     },
     "execution_count": 2,
     "metadata": {},
     "output_type": "execute_result"
    }
   ],
   "source": [
    "df = pd.read_csv('./Datasets/car_sales_data.csv')\n",
    "\n",
    "df.head()"
   ]
  },
  {
   "cell_type": "markdown",
   "id": "f15a647b",
   "metadata": {},
   "source": [
    "# **Kiểm tra thông tin dữ liệu**"
   ]
  },
  {
   "cell_type": "markdown",
   "id": "d7ee7e1b",
   "metadata": {},
   "source": [
    "- Xem kiểu dữ liệu của từng cột thuộc tính"
   ]
  },
  {
   "cell_type": "code",
   "execution_count": 3,
   "id": "1f00e667",
   "metadata": {},
   "outputs": [
    {
     "name": "stdout",
     "output_type": "stream",
     "text": [
      "<class 'pandas.core.frame.DataFrame'>\n",
      "RangeIndex: 50000 entries, 0 to 49999\n",
      "Data columns (total 7 columns):\n",
      " #   Column               Non-Null Count  Dtype  \n",
      "---  ------               --------------  -----  \n",
      " 0   Manufacturer         50000 non-null  object \n",
      " 1   Model                50000 non-null  object \n",
      " 2   Engine size          50000 non-null  float64\n",
      " 3   Fuel type            50000 non-null  object \n",
      " 4   Year of manufacture  50000 non-null  int64  \n",
      " 5   Mileage              50000 non-null  int64  \n",
      " 6   Price                50000 non-null  int64  \n",
      "dtypes: float64(1), int64(3), object(3)\n",
      "memory usage: 2.7+ MB\n"
     ]
    }
   ],
   "source": [
    "df.info()"
   ]
  },
  {
   "cell_type": "markdown",
   "id": "ba2e6794",
   "metadata": {},
   "source": [
    "- Kiểm tra có dữ liệu còn thiếu hay không"
   ]
  },
  {
   "cell_type": "code",
   "execution_count": 4,
   "id": "c7651343",
   "metadata": {},
   "outputs": [
    {
     "data": {
      "text/plain": [
       "Manufacturer           0\n",
       "Model                  0\n",
       "Engine size            0\n",
       "Fuel type              0\n",
       "Year of manufacture    0\n",
       "Mileage                0\n",
       "Price                  0\n",
       "dtype: int64"
      ]
     },
     "execution_count": 4,
     "metadata": {},
     "output_type": "execute_result"
    }
   ],
   "source": [
    "df.isna().sum()"
   ]
  },
  {
   "cell_type": "markdown",
   "id": "d77782f5",
   "metadata": {},
   "source": [
    "# **Làm sạch dữ liệu**"
   ]
  },
  {
   "cell_type": "markdown",
   "id": "15233c03",
   "metadata": {},
   "source": [
    "- Simplify tên các cột"
   ]
  },
  {
   "cell_type": "code",
   "execution_count": 5,
   "id": "a7bb6e48",
   "metadata": {},
   "outputs": [
    {
     "data": {
      "text/html": [
       "<div>\n",
       "<style scoped>\n",
       "    .dataframe tbody tr th:only-of-type {\n",
       "        vertical-align: middle;\n",
       "    }\n",
       "\n",
       "    .dataframe tbody tr th {\n",
       "        vertical-align: top;\n",
       "    }\n",
       "\n",
       "    .dataframe thead th {\n",
       "        text-align: right;\n",
       "    }\n",
       "</style>\n",
       "<table border=\"1\" class=\"dataframe\">\n",
       "  <thead>\n",
       "    <tr style=\"text-align: right;\">\n",
       "      <th></th>\n",
       "      <th>brand</th>\n",
       "      <th>model</th>\n",
       "      <th>engine_size</th>\n",
       "      <th>fuel_type</th>\n",
       "      <th>year</th>\n",
       "      <th>mileage_km</th>\n",
       "      <th>price_usd</th>\n",
       "    </tr>\n",
       "  </thead>\n",
       "  <tbody>\n",
       "    <tr>\n",
       "      <th>0</th>\n",
       "      <td>Ford</td>\n",
       "      <td>Fiesta</td>\n",
       "      <td>1.0</td>\n",
       "      <td>Petrol</td>\n",
       "      <td>2002</td>\n",
       "      <td>127300</td>\n",
       "      <td>3074</td>\n",
       "    </tr>\n",
       "    <tr>\n",
       "      <th>1</th>\n",
       "      <td>Porsche</td>\n",
       "      <td>718 Cayman</td>\n",
       "      <td>4.0</td>\n",
       "      <td>Petrol</td>\n",
       "      <td>2016</td>\n",
       "      <td>57850</td>\n",
       "      <td>49704</td>\n",
       "    </tr>\n",
       "    <tr>\n",
       "      <th>2</th>\n",
       "      <td>Ford</td>\n",
       "      <td>Mondeo</td>\n",
       "      <td>1.6</td>\n",
       "      <td>Diesel</td>\n",
       "      <td>2014</td>\n",
       "      <td>39190</td>\n",
       "      <td>24072</td>\n",
       "    </tr>\n",
       "    <tr>\n",
       "      <th>3</th>\n",
       "      <td>Toyota</td>\n",
       "      <td>RAV4</td>\n",
       "      <td>1.8</td>\n",
       "      <td>Hybrid</td>\n",
       "      <td>1988</td>\n",
       "      <td>210814</td>\n",
       "      <td>1705</td>\n",
       "    </tr>\n",
       "    <tr>\n",
       "      <th>4</th>\n",
       "      <td>VW</td>\n",
       "      <td>Polo</td>\n",
       "      <td>1.0</td>\n",
       "      <td>Petrol</td>\n",
       "      <td>2006</td>\n",
       "      <td>127869</td>\n",
       "      <td>4101</td>\n",
       "    </tr>\n",
       "    <tr>\n",
       "      <th>...</th>\n",
       "      <td>...</td>\n",
       "      <td>...</td>\n",
       "      <td>...</td>\n",
       "      <td>...</td>\n",
       "      <td>...</td>\n",
       "      <td>...</td>\n",
       "      <td>...</td>\n",
       "    </tr>\n",
       "    <tr>\n",
       "      <th>49995</th>\n",
       "      <td>BMW</td>\n",
       "      <td>M5</td>\n",
       "      <td>5.0</td>\n",
       "      <td>Petrol</td>\n",
       "      <td>2018</td>\n",
       "      <td>28664</td>\n",
       "      <td>113006</td>\n",
       "    </tr>\n",
       "    <tr>\n",
       "      <th>49996</th>\n",
       "      <td>Toyota</td>\n",
       "      <td>Prius</td>\n",
       "      <td>1.8</td>\n",
       "      <td>Hybrid</td>\n",
       "      <td>2003</td>\n",
       "      <td>105120</td>\n",
       "      <td>9430</td>\n",
       "    </tr>\n",
       "    <tr>\n",
       "      <th>49997</th>\n",
       "      <td>Ford</td>\n",
       "      <td>Mondeo</td>\n",
       "      <td>1.6</td>\n",
       "      <td>Diesel</td>\n",
       "      <td>2022</td>\n",
       "      <td>4030</td>\n",
       "      <td>49852</td>\n",
       "    </tr>\n",
       "    <tr>\n",
       "      <th>49998</th>\n",
       "      <td>Ford</td>\n",
       "      <td>Focus</td>\n",
       "      <td>1.0</td>\n",
       "      <td>Diesel</td>\n",
       "      <td>2016</td>\n",
       "      <td>26468</td>\n",
       "      <td>23630</td>\n",
       "    </tr>\n",
       "    <tr>\n",
       "      <th>49999</th>\n",
       "      <td>VW</td>\n",
       "      <td>Golf</td>\n",
       "      <td>1.4</td>\n",
       "      <td>Diesel</td>\n",
       "      <td>2012</td>\n",
       "      <td>109300</td>\n",
       "      <td>10400</td>\n",
       "    </tr>\n",
       "  </tbody>\n",
       "</table>\n",
       "<p>50000 rows × 7 columns</p>\n",
       "</div>"
      ],
      "text/plain": [
       "         brand       model  engine_size fuel_type  year  mileage_km  price_usd\n",
       "0         Ford      Fiesta          1.0    Petrol  2002      127300       3074\n",
       "1      Porsche  718 Cayman          4.0    Petrol  2016       57850      49704\n",
       "2         Ford      Mondeo          1.6    Diesel  2014       39190      24072\n",
       "3       Toyota        RAV4          1.8    Hybrid  1988      210814       1705\n",
       "4           VW        Polo          1.0    Petrol  2006      127869       4101\n",
       "...        ...         ...          ...       ...   ...         ...        ...\n",
       "49995      BMW          M5          5.0    Petrol  2018       28664     113006\n",
       "49996   Toyota       Prius          1.8    Hybrid  2003      105120       9430\n",
       "49997     Ford      Mondeo          1.6    Diesel  2022        4030      49852\n",
       "49998     Ford       Focus          1.0    Diesel  2016       26468      23630\n",
       "49999       VW        Golf          1.4    Diesel  2012      109300      10400\n",
       "\n",
       "[50000 rows x 7 columns]"
      ]
     },
     "execution_count": 5,
     "metadata": {},
     "output_type": "execute_result"
    }
   ],
   "source": [
    "df.rename(columns={\n",
    "    \"Manufacturer\": \"brand\",\n",
    "    \"Model\": \"model\",\n",
    "    \"Engine size\": \"engine_size\",\n",
    "    \"Fuel type\": \"fuel_type\",\n",
    "    \"Year of manufacture\": \"year\",\n",
    "    \"Mileage\": \"mileage_km\",\n",
    "    \"Price\": \"price_usd\",\n",
    "}, inplace=True)\n",
    "\n",
    "df"
   ]
  },
  {
   "cell_type": "markdown",
   "id": "a0abbde4",
   "metadata": {},
   "source": [
    "- Chuẩn hoá kiểu dữ liệu các cột"
   ]
  },
  {
   "cell_type": "code",
   "execution_count": 6,
   "id": "b9e25b34",
   "metadata": {},
   "outputs": [],
   "source": [
    "for c in [\"brand\", \"model\", \"fuel_type\"]:\n",
    "    df[c] = df[c].astype(str).str.strip()\n",
    "\n",
    "df[\"engine_size\"]   = pd.to_numeric(df[\"engine_size\"], errors=\"coerce\")\n",
    "df[\"year\"]       = pd.to_numeric(df[\"year\"], errors=\"coerce\").astype(\"Int64\")\n",
    "df[\"mileage_km\"] = pd.to_numeric(df[\"mileage_km\"], errors=\"coerce\")\n",
    "df[\"price_usd\"]  = pd.to_numeric(df[\"price_usd\"], errors=\"coerce\")"
   ]
  },
  {
   "cell_type": "markdown",
   "id": "504ffcc7",
   "metadata": {},
   "source": [
    "- Loại bỏ các dữ liệu lỗi"
   ]
  },
  {
   "cell_type": "code",
   "execution_count": 7,
   "id": "181d0c27",
   "metadata": {},
   "outputs": [],
   "source": [
    "df = df[(df[\"price_usd\"] > 0) & (df[\"mileage_km\"] >= 0) & df[\"year\"].notna()]"
   ]
  },
  {
   "cell_type": "markdown",
   "id": "204376bb",
   "metadata": {},
   "source": [
    "- Thêm cột age (tuổi đời của xe) và price_per_1k_km (giá/1000 km)"
   ]
  },
  {
   "cell_type": "code",
   "execution_count": 8,
   "id": "fec8bd9a",
   "metadata": {},
   "outputs": [],
   "source": [
    "df[\"age\"] = (2025 - df[\"year\"].astype(int)).clip(lower=0)\n",
    "df[\"price_per_1k_km\"] = np.where(df[\"mileage_km\"] > 0, df[\"price_usd\"]/(df[\"mileage_km\"]/1000), np.nan)"
   ]
  },
  {
   "cell_type": "markdown",
   "id": "82866bfb",
   "metadata": {},
   "source": [
    "- thêm mileage_bucket (vùng miles mà xe đã đi được)"
   ]
  },
  {
   "cell_type": "code",
   "execution_count": 9,
   "id": "77e9838f",
   "metadata": {},
   "outputs": [],
   "source": [
    "def bucket_mileage(x):\n",
    "    if pd.isna(x): return np.nan\n",
    "    if x < 20000:   return \"<20k\"\n",
    "    if x < 50000:   return \"20–50k\"\n",
    "    if x < 100000:  return \"50–100k\"\n",
    "    return \">100k\"\n",
    "df[\"mileage_bucket\"] = df[\"mileage_km\"].apply(bucket_mileage)"
   ]
  },
  {
   "cell_type": "markdown",
   "id": "acdd206f",
   "metadata": {},
   "source": [
    "- Thêm age_bucket (vùng tuổi đời của xe)"
   ]
  },
  {
   "cell_type": "code",
   "execution_count": 10,
   "id": "e2b6c235",
   "metadata": {},
   "outputs": [],
   "source": [
    "def bucket_age(a):\n",
    "    if a < 3:   return \"0–2y\"\n",
    "    if a < 6:   return \"3–5y\"\n",
    "    if a < 11:  return \"6–10y\"\n",
    "    return \"10y+\"\n",
    "df[\"age_bucket\"] = df[\"age\"].apply(bucket_age)"
   ]
  },
  {
   "cell_type": "markdown",
   "id": "a491f785",
   "metadata": {},
   "source": [
    "- Thêm overprice_threshold và is_overpriced"
   ]
  },
  {
   "cell_type": "code",
   "execution_count": 11,
   "id": "db6aaf92",
   "metadata": {},
   "outputs": [],
   "source": [
    "def over_thr(s):\n",
    "    q1, q3 = s.quantile(0.25), s.quantile(0.75)\n",
    "    return q3 + 1.5*(q3 - q1)\n",
    "thr = df.groupby([\"brand\",\"model\"])[\"price_usd\"].apply(over_thr).rename(\"overprice_threshold\")\n",
    "df = df.merge(thr.reset_index(), on=[\"brand\",\"model\"], how=\"left\")\n",
    "df[\"is_overpriced\"] = df[\"price_usd\"] > df[\"overprice_threshold\"]"
   ]
  },
  {
   "cell_type": "code",
   "execution_count": 12,
   "id": "a6de39b6",
   "metadata": {},
   "outputs": [
    {
     "data": {
      "text/html": [
       "<div>\n",
       "<style scoped>\n",
       "    .dataframe tbody tr th:only-of-type {\n",
       "        vertical-align: middle;\n",
       "    }\n",
       "\n",
       "    .dataframe tbody tr th {\n",
       "        vertical-align: top;\n",
       "    }\n",
       "\n",
       "    .dataframe thead th {\n",
       "        text-align: right;\n",
       "    }\n",
       "</style>\n",
       "<table border=\"1\" class=\"dataframe\">\n",
       "  <thead>\n",
       "    <tr style=\"text-align: right;\">\n",
       "      <th></th>\n",
       "      <th>brand</th>\n",
       "      <th>model</th>\n",
       "      <th>engine_size</th>\n",
       "      <th>fuel_type</th>\n",
       "      <th>year</th>\n",
       "      <th>mileage_km</th>\n",
       "      <th>price_usd</th>\n",
       "      <th>age</th>\n",
       "      <th>price_per_1k_km</th>\n",
       "      <th>mileage_bucket</th>\n",
       "      <th>age_bucket</th>\n",
       "      <th>overprice_threshold</th>\n",
       "      <th>is_overpriced</th>\n",
       "    </tr>\n",
       "  </thead>\n",
       "  <tbody>\n",
       "    <tr>\n",
       "      <th>0</th>\n",
       "      <td>Ford</td>\n",
       "      <td>Fiesta</td>\n",
       "      <td>1.0</td>\n",
       "      <td>Petrol</td>\n",
       "      <td>2002</td>\n",
       "      <td>127300</td>\n",
       "      <td>3074</td>\n",
       "      <td>23</td>\n",
       "      <td>24.147683</td>\n",
       "      <td>&gt;100k</td>\n",
       "      <td>10y+</td>\n",
       "      <td>24653.000</td>\n",
       "      <td>False</td>\n",
       "    </tr>\n",
       "    <tr>\n",
       "      <th>1</th>\n",
       "      <td>Porsche</td>\n",
       "      <td>718 Cayman</td>\n",
       "      <td>4.0</td>\n",
       "      <td>Petrol</td>\n",
       "      <td>2016</td>\n",
       "      <td>57850</td>\n",
       "      <td>49704</td>\n",
       "      <td>9</td>\n",
       "      <td>859.187554</td>\n",
       "      <td>50–100k</td>\n",
       "      <td>6–10y</td>\n",
       "      <td>73239.750</td>\n",
       "      <td>False</td>\n",
       "    </tr>\n",
       "    <tr>\n",
       "      <th>2</th>\n",
       "      <td>Ford</td>\n",
       "      <td>Mondeo</td>\n",
       "      <td>1.6</td>\n",
       "      <td>Diesel</td>\n",
       "      <td>2014</td>\n",
       "      <td>39190</td>\n",
       "      <td>24072</td>\n",
       "      <td>11</td>\n",
       "      <td>614.238326</td>\n",
       "      <td>20–50k</td>\n",
       "      <td>10y+</td>\n",
       "      <td>43916.000</td>\n",
       "      <td>False</td>\n",
       "    </tr>\n",
       "    <tr>\n",
       "      <th>3</th>\n",
       "      <td>Toyota</td>\n",
       "      <td>RAV4</td>\n",
       "      <td>1.8</td>\n",
       "      <td>Hybrid</td>\n",
       "      <td>1988</td>\n",
       "      <td>210814</td>\n",
       "      <td>1705</td>\n",
       "      <td>37</td>\n",
       "      <td>8.087698</td>\n",
       "      <td>&gt;100k</td>\n",
       "      <td>10y+</td>\n",
       "      <td>66286.875</td>\n",
       "      <td>False</td>\n",
       "    </tr>\n",
       "    <tr>\n",
       "      <th>4</th>\n",
       "      <td>VW</td>\n",
       "      <td>Polo</td>\n",
       "      <td>1.0</td>\n",
       "      <td>Petrol</td>\n",
       "      <td>2006</td>\n",
       "      <td>127869</td>\n",
       "      <td>4101</td>\n",
       "      <td>19</td>\n",
       "      <td>32.071886</td>\n",
       "      <td>&gt;100k</td>\n",
       "      <td>10y+</td>\n",
       "      <td>26969.875</td>\n",
       "      <td>False</td>\n",
       "    </tr>\n",
       "  </tbody>\n",
       "</table>\n",
       "</div>"
      ],
      "text/plain": [
       "     brand       model  engine_size fuel_type  year  mileage_km  price_usd  \\\n",
       "0     Ford      Fiesta          1.0    Petrol  2002      127300       3074   \n",
       "1  Porsche  718 Cayman          4.0    Petrol  2016       57850      49704   \n",
       "2     Ford      Mondeo          1.6    Diesel  2014       39190      24072   \n",
       "3   Toyota        RAV4          1.8    Hybrid  1988      210814       1705   \n",
       "4       VW        Polo          1.0    Petrol  2006      127869       4101   \n",
       "\n",
       "   age  price_per_1k_km mileage_bucket age_bucket  overprice_threshold  \\\n",
       "0   23        24.147683          >100k       10y+            24653.000   \n",
       "1    9       859.187554        50–100k      6–10y            73239.750   \n",
       "2   11       614.238326         20–50k       10y+            43916.000   \n",
       "3   37         8.087698          >100k       10y+            66286.875   \n",
       "4   19        32.071886          >100k       10y+            26969.875   \n",
       "\n",
       "   is_overpriced  \n",
       "0          False  \n",
       "1          False  \n",
       "2          False  \n",
       "3          False  \n",
       "4          False  "
      ]
     },
     "execution_count": 12,
     "metadata": {},
     "output_type": "execute_result"
    }
   ],
   "source": [
    "df.head()\n"
   ]
  },
  {
   "cell_type": "code",
   "execution_count": 13,
   "id": "e624a427",
   "metadata": {},
   "outputs": [
    {
     "data": {
      "text/plain": [
       "(50000, 13)"
      ]
     },
     "execution_count": 13,
     "metadata": {},
     "output_type": "execute_result"
    }
   ],
   "source": [
    "df.shape"
   ]
  },
  {
   "cell_type": "code",
   "execution_count": 14,
   "id": "c04c5932",
   "metadata": {},
   "outputs": [],
   "source": [
    "df.to_csv('./Datasets/car_sales_data_cleaned.csv', index=False)"
   ]
  }
 ],
 "metadata": {
  "kernelspec": {
   "display_name": ".venv",
   "language": "python",
   "name": "python3"
  },
  "language_info": {
   "codemirror_mode": {
    "name": "ipython",
    "version": 3
   },
   "file_extension": ".py",
   "mimetype": "text/x-python",
   "name": "python",
   "nbconvert_exporter": "python",
   "pygments_lexer": "ipython3",
   "version": "3.12.11"
  }
 },
 "nbformat": 4,
 "nbformat_minor": 5
}
